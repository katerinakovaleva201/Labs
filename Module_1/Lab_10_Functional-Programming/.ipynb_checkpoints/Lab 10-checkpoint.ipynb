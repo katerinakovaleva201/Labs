{
 "cells": [
  {
   "cell_type": "markdown",
   "id": "7fe042ef",
   "metadata": {},
   "source": [
    "1. Counting Sheep"
   ]
  },
  {
   "cell_type": "code",
   "execution_count": 58,
   "id": "d578681a",
   "metadata": {},
   "outputs": [
    {
     "name": "stdout",
     "output_type": "stream",
     "text": [
      "3\n"
     ]
    }
   ],
   "source": [
    "# sheeps=[True, False, True, False, True, True]\n",
    "def count_sheeps(sheeps):\n",
    "    return sheeps.count(True)\n",
    "print(count_sheeps(sheeps))"
   ]
  },
  {
   "cell_type": "markdown",
   "id": "e000f140",
   "metadata": {},
   "source": [
    "2. Removing Elements"
   ]
  },
  {
   "cell_type": "code",
   "execution_count": 29,
   "id": "687144ff",
   "metadata": {
    "scrolled": true
   },
   "outputs": [
    {
     "name": "stdout",
     "output_type": "stream",
     "text": [
      "['Keep', 'Keep', 'Keep']\n"
     ]
    }
   ],
   "source": [
    "array=[\"Keep\", \"Remove\", \"Keep\", \"Remove\", \"Keep\"]\n",
    "def remove_every_second(array):\n",
    "    return array[::2]\n",
    "print(remove_every_second(array))"
   ]
  },
  {
   "cell_type": "markdown",
   "id": "a34145ff",
   "metadata": {},
   "source": [
    "3. Convert number to a reversed array of digits"
   ]
  },
  {
   "cell_type": "code",
   "execution_count": 36,
   "id": "a4f373a5",
   "metadata": {},
   "outputs": [
    {
     "name": "stdout",
     "output_type": "stream",
     "text": [
      "[9, 8, 4, 6, 8, 5]\n"
     ]
    }
   ],
   "source": [
    "n = 586489\n",
    "def digits(n):\n",
    "    return [int(x) for x in (str(n))][::-1]\n",
    "print(digits(n))\n",
    "    "
   ]
  },
  {
   "cell_type": "markdown",
   "id": "8cbd499d",
   "metadata": {},
   "source": [
    "4. Square Every Digit"
   ]
  },
  {
   "cell_type": "code",
   "execution_count": 51,
   "id": "51bb44da",
   "metadata": {},
   "outputs": [
    {
     "name": "stdout",
     "output_type": "stream",
     "text": [
      "16118125\n"
     ]
    }
   ],
   "source": [
    "number = 41195\n",
    "s = []\n",
    "squares= []\n",
    "\n",
    "def digits(n):\n",
    "    return [int(x) for x in (str(number))]\n",
    "\n",
    "for i in digits(n):\n",
    "    s.append(i)\n",
    "    \n",
    "for i in s:\n",
    "    squares.append(i**2)\n",
    "\n",
    "print(\"\".join(map(str, squares)))\n"
   ]
  },
  {
   "cell_type": "markdown",
   "id": "2bbd8db3",
   "metadata": {},
   "source": [
    "5. Ordered Count of Characters"
   ]
  },
  {
   "cell_type": "code",
   "execution_count": 57,
   "id": "8303aa64",
   "metadata": {},
   "outputs": [
    {
     "ename": "NameError",
     "evalue": "name 'List' is not defined",
     "output_type": "error",
     "traceback": [
      "\u001b[1;31m---------------------------------------------------------------------------\u001b[0m",
      "\u001b[1;31mNameError\u001b[0m                                 Traceback (most recent call last)",
      "\u001b[1;32m~\\AppData\\Local\\Temp\\ipykernel_12736\\609156544.py\u001b[0m in \u001b[0;36m<module>\u001b[1;34m\u001b[0m\n\u001b[1;32m----> 1\u001b[1;33m \u001b[0ml\u001b[0m \u001b[1;33m=\u001b[0m \u001b[0mList\u001b[0m\u001b[1;33m(\u001b[0m\u001b[1;33m)\u001b[0m\u001b[1;33m\u001b[0m\u001b[1;33m\u001b[0m\u001b[0m\n\u001b[0m\u001b[0;32m      2\u001b[0m \u001b[1;33m\u001b[0m\u001b[0m\n\u001b[0;32m      3\u001b[0m \u001b[0mintegers_list\u001b[0m \u001b[1;33m=\u001b[0m  \u001b[1;33m[\u001b[0m\u001b[1;36m1\u001b[0m\u001b[1;33m,\u001b[0m \u001b[1;36m1\u001b[0m\u001b[1;33m,\u001b[0m \u001b[1;36m2\u001b[0m \u001b[1;33m,\u001b[0m\u001b[1;36m3\u001b[0m \u001b[1;33m,\u001b[0m\u001b[1;36m1\u001b[0m \u001b[1;33m,\u001b[0m\u001b[1;36m2\u001b[0m \u001b[1;33m,\u001b[0m\u001b[1;36m3\u001b[0m \u001b[1;33m,\u001b[0m\u001b[1;36m4\u001b[0m\u001b[1;33m]\u001b[0m\u001b[1;33m\u001b[0m\u001b[1;33m\u001b[0m\u001b[0m\n\u001b[0;32m      4\u001b[0m \u001b[0mdigits_list\u001b[0m \u001b[1;33m=\u001b[0m \u001b[1;33m[\u001b[0m\u001b[1;36m1\u001b[0m\u001b[1;33m,\u001b[0m \u001b[1;36m3\u001b[0m\u001b[1;33m]\u001b[0m\u001b[1;33m\u001b[0m\u001b[1;33m\u001b[0m\u001b[0m\n\u001b[0;32m      5\u001b[0m \u001b[0ml\u001b[0m\u001b[1;33m.\u001b[0m\u001b[0mcount_spec_digits\u001b[0m\u001b[1;33m(\u001b[0m\u001b[0mintegers_list\u001b[0m\u001b[1;33m,\u001b[0m \u001b[0mdigits_list\u001b[0m\u001b[1;33m)\u001b[0m \u001b[1;33m==\u001b[0m \u001b[1;33m[\u001b[0m\u001b[1;33m(\u001b[0m\u001b[1;36m1\u001b[0m\u001b[1;33m,\u001b[0m \u001b[1;36m3\u001b[0m\u001b[1;33m)\u001b[0m\u001b[1;33m,\u001b[0m \u001b[1;33m(\u001b[0m\u001b[1;36m3\u001b[0m\u001b[1;33m,\u001b[0m \u001b[1;36m2\u001b[0m\u001b[1;33m)\u001b[0m\u001b[1;33m]\u001b[0m\u001b[1;33m\u001b[0m\u001b[1;33m\u001b[0m\u001b[0m\n",
      "\u001b[1;31mNameError\u001b[0m: name 'List' is not defined"
     ]
    }
   ],
   "source": [
    "l = List()\n",
    "\n",
    "integers_list =  [1, 1, 2 ,3 ,1 ,2 ,3 ,4]\n",
    "digits_list = [1, 3]\n",
    "l.count_spec_digits(integers_list, digits_list) == [(1, 3), (3, 2)]\n",
    "\n",
    "integers_list = [-18, -31, 81, -19, 111, -888]\n",
    "digits_list = [1, 8, 4]\n",
    "l.count_spec_digits(integers_list, digits_list) == [(1, 7), (8, 5), (4, 0)]\n",
    "\n",
    "integers_list = [-77, -65, 56, -79, 6666, 222]\n",
    "digits_list = [1, 8, 4]\n",
    "l.count_spec_digits(integers_list, digits_list) == [(1, 0), (8, 0), (4, 0)]\n",
    "\n",
    "\n",
    "class List(object):\n",
    "    def count_spec_digits(self, integers_list, digits_list):\n",
    "        strings_list = [str(item) for item in digits_list]\n",
    "        \n",
    "        itens = [str(abs(item)) for item in integers_list]\n",
    "        \n",
    "        join_itens = \"\".join(itens)\n",
    "        \n",
    "        obj = {key: 0 for key in strings_list}\n",
    "        \n",
    "        for value in join_itens:\n",
    "            if value in strings_list:\n",
    "                obj[value] += 1\n",
    "            \n",
    "        obj_keys = list(obj.keys())\n",
    "        \n",
    "        obj_values = list(obj.values())\n",
    "        \n",
    "        result = []\n",
    "        \n",
    "        for index, value in enumerate(obj_keys):\n",
    "            result.append((int(value), obj_values[index]))\n",
    "        \n",
    "        return result "
   ]
  }
 ],
 "metadata": {
  "kernelspec": {
   "display_name": "Python 3 (ipykernel)",
   "language": "python",
   "name": "python3"
  },
  "language_info": {
   "codemirror_mode": {
    "name": "ipython",
    "version": 3
   },
   "file_extension": ".py",
   "mimetype": "text/x-python",
   "name": "python",
   "nbconvert_exporter": "python",
   "pygments_lexer": "ipython3",
   "version": "3.9.13"
  }
 },
 "nbformat": 4,
 "nbformat_minor": 5
}
