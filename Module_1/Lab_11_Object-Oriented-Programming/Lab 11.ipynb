{
 "cells": [
  {
   "cell_type": "code",
   "execution_count": 17,
   "id": "17a704fb",
   "metadata": {},
   "outputs": [
    {
     "data": {
      "text/plain": [
       "[6, 5, 6]"
      ]
     },
     "execution_count": 17,
     "metadata": {},
     "output_type": "execute_result"
    }
   ],
   "source": [
    "integer_list =  [6,5,6,8,8,3]\n",
    "values_list = [8,3,8,2]\n",
    "\n",
    "class List:\n",
    "    def remove_(self, integer_list, values_list):\n",
    "        remain_list = []\n",
    "        #your code here\n",
    "        for i in integer_list :\n",
    "            if i not in values_list:\n",
    "                remain_list.append(i)\n",
    "        return remain_list\n",
    "\n",
    "integer_list =  [6,5,6,8,8,3]\n",
    "values_list = [8,3,8,2]\n",
    "l = List()\n",
    "l.remove_(integer_list, values_list)"
   ]
  },
  {
   "cell_type": "code",
   "execution_count": 38,
   "id": "e0e8cf35",
   "metadata": {},
   "outputs": [
    {
     "name": "stdout",
     "output_type": "stream",
     "text": [
      "<class '__main__.List'>\n"
     ]
    }
   ],
   "source": [
    "integers_list =  [1, 1, 2 ,3 ,1 ,2 ,3 ,4]\n",
    "digits_list = [1, 3]\n",
    "class List(object):\n",
    "    def count_spec_digits(self, integers_list, digits_list):\n",
    "        return [(d, str(integers_list).count(str(d))) for d in digits_list]"
   ]
  },
  {
   "cell_type": "code",
   "execution_count": 23,
   "id": "10ba674e",
   "metadata": {},
   "outputs": [
    {
     "data": {
      "text/plain": [
       "[('i', 5),\n",
       " ('l', 2),\n",
       " ('k', 3),\n",
       " ('e', 4),\n",
       " ('t', 3),\n",
       " ('o', 3),\n",
       " ('w', 2),\n",
       " ('a', 4),\n",
       " ('n', 1),\n",
       " ('p', 1),\n",
       " ('r', 2),\n",
       " ('f', 1),\n",
       " ('h', 2),\n",
       " ('s', 1),\n",
       " ('g', 1),\n",
       " ('d', 1)]"
      ]
     },
     "execution_count": 23,
     "metadata": {},
     "output_type": "execute_result"
    }
   ],
   "source": [
    "word = \"iliketowalkinaparkiftheweatherisgood\"\n",
    "\n",
    "def ordered_count(inp):\n",
    "    result=[]\n",
    "    for i in inp:\n",
    "        if (i,inp.count(i)) not in result:\n",
    "            result.append((i,inp.count(i)))\n",
    "    return result\n",
    "\n",
    "ordered_count(word)"
   ]
  },
  {
   "cell_type": "code",
   "execution_count": null,
   "id": "b6d64851",
   "metadata": {},
   "outputs": [],
   "source": []
  }
 ],
 "metadata": {
  "kernelspec": {
   "display_name": "Python 3 (ipykernel)",
   "language": "python",
   "name": "python3"
  },
  "language_info": {
   "codemirror_mode": {
    "name": "ipython",
    "version": 3
   },
   "file_extension": ".py",
   "mimetype": "text/x-python",
   "name": "python",
   "nbconvert_exporter": "python",
   "pygments_lexer": "ipython3",
   "version": "3.9.13"
  }
 },
 "nbformat": 4,
 "nbformat_minor": 5
}
